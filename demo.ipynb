{
 "cells": [
  {
   "cell_type": "code",
   "execution_count": 1,
   "id": "32766fbc",
   "metadata": {
    "_cell_guid": "b1076dfc-b9ad-4769-8c92-a6c4dae69d19",
    "_uuid": "8f2839f25d086af736a60e9eeb907d3b93b6e0e5",
    "execution": {
     "iopub.execute_input": "2022-08-18T12:04:50.555792Z",
     "iopub.status.busy": "2022-08-18T12:04:50.555088Z",
     "iopub.status.idle": "2022-08-18T12:04:50.560313Z",
     "shell.execute_reply": "2022-08-18T12:04:50.559514Z"
    },
    "papermill": {
     "duration": 0.012857,
     "end_time": "2022-08-18T12:04:50.563487",
     "exception": false,
     "start_time": "2022-08-18T12:04:50.550630",
     "status": "completed"
    },
    "tags": []
   },
   "outputs": [],
   "source": [
    "# print(\"HI\")"
   ]
  }
 ],
 "metadata": {
  "kernelspec": {
   "display_name": "Python 3",
   "language": "python",
   "name": "python3"
  },
  "language_info": {
   "codemirror_mode": {
    "name": "ipython",
    "version": 3
   },
   "file_extension": ".py",
   "mimetype": "text/x-python",
   "name": "python",
   "nbconvert_exporter": "python",
   "pygments_lexer": "ipython3",
   "version": "3.7.12"
  },
  "papermill": {
   "default_parameters": {},
   "duration": 10.321835,
   "end_time": "2022-08-18T12:04:51.286129",
   "environment_variables": {},
   "exception": null,
   "input_path": "__notebook__.ipynb",
   "output_path": "__notebook__.ipynb",
   "parameters": {},
   "start_time": "2022-08-18T12:04:40.964294",
   "version": "2.3.4"
  }
 },
 "nbformat": 4,
 "nbformat_minor": 5
}
